{
 "cells": [
  {
   "cell_type": "code",
   "execution_count": 1,
   "id": "3931cbcc",
   "metadata": {},
   "outputs": [
    {
     "name": "stdout",
     "output_type": "stream",
     "text": [
      "Shape: (10,)\n",
      "Size: 10\n",
      "Data Type: int64\n"
     ]
    }
   ],
   "source": [
    "#1. Create a NumPy array of integers from 1 to 10 and print its shape, size, and data type.\n",
    "import numpy as np\n",
    "a=np.arange(1, 11)  # Creating an array of integers from 1 to 10\n",
    "print(\"Shape:\", a.shape)  # Printing the shape of the array\n",
    "print(\"Size:\", a.size)  # Printing the size of the array\n",
    "print(\"Data Type:\", a.dtype)  # Printing the data type of the array"
   ]
  },
  {
   "cell_type": "code",
   "execution_count": 2,
   "id": "5e94e9ca",
   "metadata": {},
   "outputs": [
    {
     "name": "stdout",
     "output_type": "stream",
     "text": [
      "Number of Dimensions: 2\n",
      "Shape: (3, 3)\n",
      "Sum of all elements: 45\n"
     ]
    }
   ],
   "source": [
    "#2. Create a 2D NumPy array of shape (3, 3) with values from 1 to 9 and display:\n",
    "#● Number of dimensions (ndim)\n",
    "#● Shape\n",
    "#● Sum of all elements\n",
    "arr = np.arange(1, 10).reshape(3, 3)  # Creating a 2D array with values from 1 to 9\n",
    "print(\"Number of Dimensions:\", arr.ndim)  # Printing the number of dimensions\n",
    "print(\"Shape:\", arr.shape)  # Printing the shape of the array\n",
    "print(\"Sum of all elements:\", arr.sum())  # Printing the sum of all elements"
   ]
  },
  {
   "cell_type": "code",
   "execution_count": 3,
   "id": "004a2370",
   "metadata": {},
   "outputs": [
    {
     "name": "stdout",
     "output_type": "stream",
     "text": [
      "Result of multiplication: [0. 0. 0. 0. 0.]\n"
     ]
    }
   ],
   "source": [
    "#3. Create an array of 5 zeros and another of 5 ones. Multiply both and display the result.\n",
    "zeros_array = np.zeros(5)  # Creating an array of 5 zeros\n",
    "ones_array = np.ones(5)  # Creating an array of 5 ones\n",
    "result = zeros_array * ones_array  # Multiplying both arrays\n",
    "print(\"Result of multiplication:\", result)  # Displaying the result"
   ]
  },
  {
   "cell_type": "code",
   "execution_count": 4,
   "id": "4f13f608",
   "metadata": {},
   "outputs": [
    {
     "name": "stdout",
     "output_type": "stream",
     "text": [
      "Even numbers between 20 and 40: [10 12 14 16 18 20 22 24 26 28 30 32 34 36 38 40]\n",
      "First 3 elements: [10 12 14]\n"
     ]
    }
   ],
   "source": [
    "#4. Create an array of even numbers between 20 and 40. Use slicing to display the first 3 elements.\n",
    "even = np.arange(10,41,2)\n",
    "print(\"Even numbers between 20 and 40:\", even)  # Displaying the even numbers\n",
    "print(\"First 3 elements:\", even[:3])  # Displaying the first 3 elements"
   ]
  },
  {
   "cell_type": "code",
   "execution_count": 5,
   "id": "6ecc2b6c",
   "metadata": {},
   "outputs": [
    {
     "name": "stdout",
     "output_type": "stream",
     "text": [
      "Reshaped Matrix:\n",
      " [[ 0  1  2  3]\n",
      " [ 4  5  6  7]\n",
      " [ 8  9 10 11]]\n",
      "Sum along axis=0: [12 15 18 21]\n",
      "Sum along axis=1: [ 6 22 38]\n"
     ]
    }
   ],
   "source": [
    "#5. Reshape a 1D array of 12 elements into a 3x4 matrix and calculate the sum along axis=0 and axis=1.\n",
    "arr_1d = np.arange(12)  # Creating a 1D array of 12 elements\n",
    "reshaped_matrix = arr_1d.reshape(3, 4)  # Reshaping into a 3x4 matrix\n",
    "print(\"Reshaped Matrix:\\n\", reshaped_matrix)  # Displaying the reshaped matrix\n",
    "print(\"Sum along axis=0:\", reshaped_matrix.sum(axis=0))  # Sum along columns\n",
    "print(\"Sum along axis=1:\", reshaped_matrix.sum(axis=1))  # Sum along rows"
   ]
  },
  {
   "cell_type": "code",
   "execution_count": 6,
   "id": "5ca66c1d",
   "metadata": {},
   "outputs": [
    {
     "name": "stdout",
     "output_type": "stream",
     "text": [
      "5x5 Identity Matrix:\n",
      " [[1. 0. 0. 0. 0.]\n",
      " [0. 1. 0. 0. 0.]\n",
      " [0. 0. 1. 0. 0.]\n",
      " [0. 0. 0. 1. 0.]\n",
      " [0. 0. 0. 0. 1.]]\n"
     ]
    }
   ],
   "source": [
    "#6. Create a 5x5 identity matrix using NumPy.\n",
    "identity_matrix = np.eye(5)  # Creating a 5x5 identity matrix\n",
    "print(\"5x5 Identity Matrix:\\n\", identity_matrix)  # Displaying the identity matrix"
   ]
  },
  {
   "cell_type": "code",
   "execution_count": 7,
   "id": "daf3b883",
   "metadata": {},
   "outputs": [
    {
     "name": "stdout",
     "output_type": "stream",
     "text": [
      "Random Array: [91 94 31 90 75  8 73 47 99 24]\n",
      "Maximum Value: 99 at index 8\n",
      "Minimum Value: 8 at index 5\n"
     ]
    }
   ],
   "source": [
    "#7. Create a 1D array of 10 random integers between 1 and 100. Find the maximum and minimum values and their indices.\n",
    "random_array = np.random.randint(1, 101, size=10)  # Creating a 1D array of 10 random integers\n",
    "print(\"Random Array:\", random_array)  # Displaying the random array\n",
    "max_value = random_array.max()  # Finding the maximum value\n",
    "min_value = random_array.min()  # Finding the minimum value\n",
    "print(\"Maximum Value:\", max_value, \"at index\", random_array.argmax())  # Displaying max value and index\n",
    "print(\"Minimum Value:\", min_value, \"at index\", random_array.argmin())  # Displaying min value and index"
   ]
  },
  {
   "cell_type": "code",
   "execution_count": 8,
   "id": "e2fddb6a",
   "metadata": {},
   "outputs": [
    {
     "name": "stdout",
     "output_type": "stream",
     "text": [
      "Array of float numbers between 0 and 1: [0.  0.2 0.4 0.6 0.8 1. ]\n"
     ]
    }
   ],
   "source": [
    "#8. Generate a NumPy array of 6 float numbers between 0 and 1 using linspace. Round the values to 2 decimal places.\n",
    "float_array = np.linspace(0, 1, 6)  # Generating an array of 6 float numbers between 0 and 1\n",
    "rounded_array = np.round(float_array, 2)  # Rounding the values to 2 decimal places\n",
    "print(\"Array of float numbers between 0 and 1:\", rounded_array)  # Displaying the rounded array"
   ]
  },
  {
   "cell_type": "code",
   "execution_count": 10,
   "id": "b2779f6b",
   "metadata": {},
   "outputs": [
    {
     "name": "stdout",
     "output_type": "stream",
     "text": [
      "Original Array: [1 2 2 3 4 4 5]\n",
      "Array after removing duplicates: [1 2 3 4 5]\n"
     ]
    }
   ],
   "source": [
    "#9. Create a NumPy array with some repeated values and remove the duplicates.\n",
    "repeated_array = np.array([1, 2, 2, 3, 4, 4, 5])  # Creating an array with repeated values\n",
    "unique_array = np.unique(repeated_array)  # Removing duplicates\n",
    "print(\"Original Array:\", repeated_array)  # Displaying the original array\n",
    "print(\"Array after removing duplicates:\", unique_array)  # Displaying the array after removing duplicates"
   ]
  },
  {
   "cell_type": "code",
   "execution_count": 11,
   "id": "ab8c2533",
   "metadata": {},
   "outputs": [
    {
     "name": "stdout",
     "output_type": "stream",
     "text": [
      "Matrix A:\n",
      " [[1 2 3]\n",
      " [4 5 6]\n",
      " [7 8 9]]\n",
      "Matrix B:\n",
      " [[9 8 7]\n",
      " [6 5 4]\n",
      " [3 2 1]]\n",
      "Matrix Addition:\n",
      " [[10 10 10]\n",
      " [10 10 10]\n",
      " [10 10 10]]\n",
      "Matrix Multiplication:\n",
      " [[ 30  24  18]\n",
      " [ 84  69  54]\n",
      " [138 114  90]]\n",
      "Element-wise Multiplication:\n",
      " [[ 9 16 21]\n",
      " [24 25 24]\n",
      " [21 16  9]]\n"
     ]
    }
   ],
   "source": [
    "#10. Create two 3x3 matrices and perform the following operations:\n",
    "#● Matrix addition\n",
    "#● Matrix multiplication\n",
    "#● Element-wise multiplication\n",
    "matrix_a = np.array([[1, 2, 3], [4, 5, 6], [7, 8, 9]])  # First 3x3 matrix\n",
    "matrix_b = np.array([[9, 8, 7], [6, 5, 4], [3, 2, 1]])  # Second 3x3 matrix\n",
    "print(\"Matrix A:\\n\", matrix_a)  # Displaying first matrix\n",
    "print(\"Matrix B:\\n\", matrix_b)  # Displaying second matrix\n",
    "print(\"Matrix Addition:\\n\", matrix_a + matrix_b)  # Performing matrix addition\n",
    "print(\"Matrix Multiplication:\\n\", np.dot(matrix_a, matrix_b))  # Performing matrix multiplication\n",
    "print(\"Element-wise Multiplication:\\n\", matrix_a * matrix_b)  # Performing element-wise multiplication"
   ]
  },
  {
   "cell_type": "code",
   "execution_count": null,
   "id": "300fb7b4",
   "metadata": {},
   "outputs": [],
   "source": []
  }
 ],
 "metadata": {
  "kernelspec": {
   "display_name": "Python 3",
   "language": "python",
   "name": "python3"
  },
  "language_info": {
   "codemirror_mode": {
    "name": "ipython",
    "version": 3
   },
   "file_extension": ".py",
   "mimetype": "text/x-python",
   "name": "python",
   "nbconvert_exporter": "python",
   "pygments_lexer": "ipython3",
   "version": "3.13.5"
  }
 },
 "nbformat": 4,
 "nbformat_minor": 5
}
